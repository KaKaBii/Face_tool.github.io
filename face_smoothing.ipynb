{
 "cells": [
  {
   "cell_type": "markdown",
   "metadata": {
    "id": "view-in-github"
   },
   "source": [
    "<a href=\"https://colab.research.google.com/github/5starkarma/face_smoothing/blob/master/face_smoothing.ipynb\" target=\"_parent\"><img src=\"https://colab.research.google.com/assets/colab-badge.svg\" alt=\"Open In Colab\"/></a>"
   ]
  },
  {
   "cell_type": "code",
   "execution_count": 4,
   "metadata": {
    "id": "kWHNWsIwJCx2"
   },
   "outputs": [
    {
     "name": "stderr",
     "output_type": "stream",
     "text": [
      "'git' ���O�����Υ~���R�O�B�i���檺�{���Χ妸�ɡC\n"
     ]
    }
   ],
   "source": [
    "! git clone https://github.com/5starkarma/face-smoothing.git"
   ]
  },
  {
   "cell_type": "code",
   "execution_count": 5,
   "metadata": {
    "colab": {
     "base_uri": "https://localhost:8080/",
     "height": 35
    },
    "executionInfo": {
     "elapsed": 21164,
     "status": "ok",
     "timestamp": 1603810470962,
     "user": {
      "displayName": "David Alford",
      "photoUrl": "https://lh3.googleusercontent.com/a-/AOh14GheT71IzDWLPI7lr_dwTxgAeaYWzuqL3xPdlwENig=s64",
      "userId": "13004697861279851600"
     },
     "user_tz": 420
    },
    "id": "ZYrJKoVu0K9_",
    "outputId": "d6dbb6d2-2030-4bb4-8f0f-b4af3ca20bcb"
   },
   "outputs": [
    {
     "name": "stderr",
     "output_type": "stream",
     "text": [
      "'from' ���O�����Υ~���R�O�B�i���檺�{���Χ妸�ɡC\n",
      "'drive.mount' ���O�����Υ~���R�O�B�i���檺�{���Χ妸�ɡC\n"
     ]
    }
   ],
   "source": [
    "! from google.colab import drive\n",
    "! drive.mount('/content/drive')"
   ]
  },
  {
   "cell_type": "code",
   "execution_count": 6,
   "metadata": {
    "colab": {
     "base_uri": "https://localhost:8080/",
     "height": 35
    },
    "executionInfo": {
     "elapsed": 20833,
     "status": "ok",
     "timestamp": 1603810470966,
     "user": {
      "displayName": "David Alford",
      "photoUrl": "https://lh3.googleusercontent.com/a-/AOh14GheT71IzDWLPI7lr_dwTxgAeaYWzuqL3xPdlwENig=s64",
      "userId": "13004697861279851600"
     },
     "user_tz": 420
    },
    "id": "0DEsrX6B1U_x",
    "outputId": "b7d98423-06e2-42de-c55a-22c16eddac6b"
   },
   "outputs": [
    {
     "name": "stdout",
     "output_type": "stream",
     "text": [
      "[WinError 2] 系統找不到指定的檔案。: 'face-smoothing'\n",
      "d:\\GitHub\\face-smoothing\n"
     ]
    },
    {
     "name": "stderr",
     "output_type": "stream",
     "text": [
      "'%' ���O�����Υ~���R�O�B�i���檺�{���Χ妸�ɡC\n",
      "C:\\Users\\h5073\\AppData\\Roaming\\Python\\Python310\\site-packages\\IPython\\core\\magics\\osm.py:393: UserWarning: This is now an optional IPython functionality, using bookmarks requires you to install the `pickleshare` library.\n",
      "  bkms = self.shell.db.get('bookmarks', {})\n"
     ]
    }
   ],
   "source": [
    "! % cd /content/drive/My\\ Drive/Colab Notebooks/face-smoothing\n",
    "%cd face-smoothing"
   ]
  },
  {
   "cell_type": "code",
   "execution_count": 7,
   "metadata": {
    "colab": {
     "base_uri": "https://localhost:8080/",
     "height": 248
    },
    "executionInfo": {
     "elapsed": 27260,
     "status": "ok",
     "timestamp": 1603810477796,
     "user": {
      "displayName": "David Alford",
      "photoUrl": "https://lh3.googleusercontent.com/a-/AOh14GheT71IzDWLPI7lr_dwTxgAeaYWzuqL3xPdlwENig=s64",
      "userId": "13004697861279851600"
     },
     "user_tz": 420
    },
    "id": "1U3JHKHD8M9o",
    "outputId": "cee5df76-de8a-4c00-e8e0-f3aa7814fb26"
   },
   "outputs": [
    {
     "name": "stdout",
     "output_type": "stream",
     "text": [
      "Requirement already satisfied: PyYAML in c:\\users\\h5073\\appdata\\local\\programs\\python\\python310\\lib\\site-packages (6.0.2)\n"
     ]
    }
   ],
   "source": [
    "! pip install -U PyYAML\n",
    "! pip install opencv-python\n",
    "! pip install opencv-python-headless\n",
    "\n"
   ]
  },
  {
   "cell_type": "code",
   "execution_count": 1,
   "metadata": {
    "colab": {
     "base_uri": "https://localhost:8080/",
     "height": 1000
    },
    "executionInfo": {
     "elapsed": 15667,
     "status": "ok",
     "timestamp": 1603818896138,
     "user": {
      "displayName": "David Alford",
      "photoUrl": "https://lh3.googleusercontent.com/a-/AOh14GheT71IzDWLPI7lr_dwTxgAeaYWzuqL3xPdlwENig=s64",
      "userId": "13004697861279851600"
     },
     "user_tz": 420
    },
    "id": "BXsIMd_ymFtq",
    "outputId": "0c49cfbd-63bc-4397-a315-1276813cd42a"
   },
   "outputs": [
    {
     "name": "stdout",
     "output_type": "stream",
     "text": [
      "STDOUT:\n",
      "\n",
      "STDERR:\n",
      "\n"
     ]
    }
   ],
   "source": [
    "! python3 infer.py --input '/content/drive/My Drive/Colab Notebooks/face-smoothing/data/images'\n",
    "# 執行 Shell 命令\n",
    "import subprocess\n",
    "result = subprocess.run(['python3', 'infer.py', '--input', './data/images'], \n",
    "                        stdout=subprocess.PIPE, \n",
    "                        stderr=subprocess.PIPE, \n",
    "                        text=True)\n",
    "\n",
    "# 打印命令的輸出\n",
    "print(\"STDOUT:\")\n",
    "print(result.stdout)\n",
    "\n",
    "# 如果有錯誤，打印錯誤信息\n",
    "print(\"STDERR:\")\n",
    "print(result.stderr)"
   ]
  },
  {
   "cell_type": "code",
   "execution_count": null,
   "metadata": {
    "id": "hWmhTm2wclAr"
   },
   "outputs": [],
   "source": [
    "! rm -r /content/drive/My\\ Drive/Colab\\ Notebooks/face-smoothing/data/output\n",
    "! rm -r data/output"
   ]
  }
 ],
 "metadata": {
  "colab": {
   "collapsed_sections": [],
   "name": "face_smoothing.ipynb",
   "provenance": []
  },
  "kernelspec": {
   "display_name": "Python 3",
   "language": "python",
   "name": "python3"
  },
  "language_info": {
   "codemirror_mode": {
    "name": "ipython",
    "version": 3
   },
   "file_extension": ".py",
   "mimetype": "text/x-python",
   "name": "python",
   "nbconvert_exporter": "python",
   "pygments_lexer": "ipython3",
   "version": "3.10.0rc2"
  }
 },
 "nbformat": 4,
 "nbformat_minor": 0
}
